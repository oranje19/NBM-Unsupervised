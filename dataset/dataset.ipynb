{
 "cells": [
  {
   "cell_type": "code",
   "execution_count": 3,
   "id": "71fcbf17-89af-44ea-bc38-0c5a43428a97",
   "metadata": {},
   "outputs": [
    {
     "name": "stdout",
     "output_type": "stream",
     "text": [
      "Collecting ndjson\n",
      "  Downloading ndjson-0.3.1-py2.py3-none-any.whl (5.3 kB)\n",
      "Installing collected packages: ndjson\n",
      "Successfully installed ndjson-0.3.1\n",
      "Note: you may need to restart the kernel to use updated packages.\n"
     ]
    }
   ],
   "source": [
    "# pip install ndjson"
   ]
  },
  {
   "cell_type": "code",
   "execution_count": 1,
   "id": "78e3f42f-7fb4-4236-a5c0-0fa572102eef",
   "metadata": {},
   "outputs": [],
   "source": [
    "import ndjson\n",
    "import pandas as pd\n",
    "import numpy as np\n",
    "import seaborn as sns"
   ]
  },
  {
   "cell_type": "code",
   "execution_count": 2,
   "id": "f754fd13-3ef6-4811-8a57-b458dab5f278",
   "metadata": {},
   "outputs": [],
   "source": [
    "with open('../../Datasets/amazon-video-games/Video_Games.json') as f:\n",
    "    data = ndjson.load(f)"
   ]
  },
  {
   "cell_type": "code",
   "execution_count": 3,
   "id": "2df82b71-c08f-4f7c-bca0-2672e4daf497",
   "metadata": {},
   "outputs": [],
   "source": [
    "df = pd.DataFrame(data)"
   ]
  },
  {
   "cell_type": "code",
   "execution_count": 4,
   "id": "a054e1f3-e498-4efb-9834-f6afbe0d7889",
   "metadata": {},
   "outputs": [
    {
     "data": {
      "text/html": [
       "<div>\n",
       "<style scoped>\n",
       "    .dataframe tbody tr th:only-of-type {\n",
       "        vertical-align: middle;\n",
       "    }\n",
       "\n",
       "    .dataframe tbody tr th {\n",
       "        vertical-align: top;\n",
       "    }\n",
       "\n",
       "    .dataframe thead th {\n",
       "        text-align: right;\n",
       "    }\n",
       "</style>\n",
       "<table border=\"1\" class=\"dataframe\">\n",
       "  <thead>\n",
       "    <tr style=\"text-align: right;\">\n",
       "      <th></th>\n",
       "      <th>overall</th>\n",
       "      <th>verified</th>\n",
       "      <th>reviewTime</th>\n",
       "      <th>reviewerID</th>\n",
       "      <th>asin</th>\n",
       "      <th>reviewerName</th>\n",
       "      <th>reviewText</th>\n",
       "      <th>summary</th>\n",
       "      <th>unixReviewTime</th>\n",
       "      <th>vote</th>\n",
       "      <th>style</th>\n",
       "      <th>image</th>\n",
       "    </tr>\n",
       "  </thead>\n",
       "  <tbody>\n",
       "    <tr>\n",
       "      <th>0</th>\n",
       "      <td>1.0</td>\n",
       "      <td>True</td>\n",
       "      <td>06 9, 2014</td>\n",
       "      <td>A21ROB4YDOZA5P</td>\n",
       "      <td>0439381673</td>\n",
       "      <td>Mary M. Clark</td>\n",
       "      <td>I used to play this game years ago and loved i...</td>\n",
       "      <td>Did not like this</td>\n",
       "      <td>1402272000</td>\n",
       "      <td>NaN</td>\n",
       "      <td>NaN</td>\n",
       "      <td>NaN</td>\n",
       "    </tr>\n",
       "    <tr>\n",
       "      <th>1</th>\n",
       "      <td>3.0</td>\n",
       "      <td>True</td>\n",
       "      <td>05 10, 2014</td>\n",
       "      <td>A3TNZ2Q5E7HTHD</td>\n",
       "      <td>0439381673</td>\n",
       "      <td>Sarabatya</td>\n",
       "      <td>The game itself worked great but the story lin...</td>\n",
       "      <td>Almost Perfect</td>\n",
       "      <td>1399680000</td>\n",
       "      <td>NaN</td>\n",
       "      <td>NaN</td>\n",
       "      <td>NaN</td>\n",
       "    </tr>\n",
       "    <tr>\n",
       "      <th>2</th>\n",
       "      <td>4.0</td>\n",
       "      <td>True</td>\n",
       "      <td>02 7, 2014</td>\n",
       "      <td>A1OKRM3QFEATQO</td>\n",
       "      <td>0439381673</td>\n",
       "      <td>Amazon Customer</td>\n",
       "      <td>I had to learn the hard way after ordering thi...</td>\n",
       "      <td>DOES NOT WORK WITH MAC OS unless it is 10.3 or...</td>\n",
       "      <td>1391731200</td>\n",
       "      <td>15</td>\n",
       "      <td>NaN</td>\n",
       "      <td>NaN</td>\n",
       "    </tr>\n",
       "    <tr>\n",
       "      <th>3</th>\n",
       "      <td>1.0</td>\n",
       "      <td>True</td>\n",
       "      <td>02 7, 2014</td>\n",
       "      <td>A2XO1JFCNEYV3T</td>\n",
       "      <td>0439381673</td>\n",
       "      <td>ColoradoPartyof5</td>\n",
       "      <td>The product description should state this clea...</td>\n",
       "      <td>does not work on Mac OSX</td>\n",
       "      <td>1391731200</td>\n",
       "      <td>11</td>\n",
       "      <td>NaN</td>\n",
       "      <td>NaN</td>\n",
       "    </tr>\n",
       "    <tr>\n",
       "      <th>4</th>\n",
       "      <td>4.0</td>\n",
       "      <td>True</td>\n",
       "      <td>01 16, 2014</td>\n",
       "      <td>A19WLPIRHD15TH</td>\n",
       "      <td>0439381673</td>\n",
       "      <td>Karen Robinson</td>\n",
       "      <td>I would recommend this learning game for anyon...</td>\n",
       "      <td>Roughing it</td>\n",
       "      <td>1389830400</td>\n",
       "      <td>NaN</td>\n",
       "      <td>NaN</td>\n",
       "      <td>NaN</td>\n",
       "    </tr>\n",
       "  </tbody>\n",
       "</table>\n",
       "</div>"
      ],
      "text/plain": [
       "   overall  verified   reviewTime      reviewerID        asin  \\\n",
       "0      1.0      True   06 9, 2014  A21ROB4YDOZA5P  0439381673   \n",
       "1      3.0      True  05 10, 2014  A3TNZ2Q5E7HTHD  0439381673   \n",
       "2      4.0      True   02 7, 2014  A1OKRM3QFEATQO  0439381673   \n",
       "3      1.0      True   02 7, 2014  A2XO1JFCNEYV3T  0439381673   \n",
       "4      4.0      True  01 16, 2014  A19WLPIRHD15TH  0439381673   \n",
       "\n",
       "       reviewerName                                         reviewText  \\\n",
       "0     Mary M. Clark  I used to play this game years ago and loved i...   \n",
       "1         Sarabatya  The game itself worked great but the story lin...   \n",
       "2   Amazon Customer  I had to learn the hard way after ordering thi...   \n",
       "3  ColoradoPartyof5  The product description should state this clea...   \n",
       "4    Karen Robinson  I would recommend this learning game for anyon...   \n",
       "\n",
       "                                             summary  unixReviewTime vote  \\\n",
       "0                                  Did not like this      1402272000  NaN   \n",
       "1                                     Almost Perfect      1399680000  NaN   \n",
       "2  DOES NOT WORK WITH MAC OS unless it is 10.3 or...      1391731200   15   \n",
       "3                           does not work on Mac OSX      1391731200   11   \n",
       "4                                        Roughing it      1389830400  NaN   \n",
       "\n",
       "  style image  \n",
       "0   NaN   NaN  \n",
       "1   NaN   NaN  \n",
       "2   NaN   NaN  \n",
       "3   NaN   NaN  \n",
       "4   NaN   NaN  "
      ]
     },
     "execution_count": 4,
     "metadata": {},
     "output_type": "execute_result"
    }
   ],
   "source": [
    "df.head()"
   ]
  },
  {
   "cell_type": "code",
   "execution_count": 5,
   "id": "8fabf702-4227-4f71-bd98-0c04b8394998",
   "metadata": {},
   "outputs": [
    {
     "data": {
      "text/plain": [
       "(2565349, 12)"
      ]
     },
     "execution_count": 5,
     "metadata": {},
     "output_type": "execute_result"
    }
   ],
   "source": [
    "df.shape"
   ]
  },
  {
   "cell_type": "code",
   "execution_count": 6,
   "id": "3fe57f9f-77cf-4dd0-bdc5-0a242ae6c6f0",
   "metadata": {},
   "outputs": [
    {
     "name": "stdout",
     "output_type": "stream",
     "text": [
      "<class 'pandas.core.frame.DataFrame'>\n",
      "RangeIndex: 2565349 entries, 0 to 2565348\n",
      "Data columns (total 12 columns):\n",
      " #   Column          Dtype  \n",
      "---  ------          -----  \n",
      " 0   overall         float64\n",
      " 1   verified        bool   \n",
      " 2   reviewTime      object \n",
      " 3   reviewerID      object \n",
      " 4   asin            object \n",
      " 5   reviewerName    object \n",
      " 6   reviewText      object \n",
      " 7   summary         object \n",
      " 8   unixReviewTime  int64  \n",
      " 9   vote            object \n",
      " 10  style           object \n",
      " 11  image           object \n",
      "dtypes: bool(1), float64(1), int64(1), object(9)\n",
      "memory usage: 217.7+ MB\n"
     ]
    }
   ],
   "source": [
    "df.info()"
   ]
  },
  {
   "cell_type": "code",
   "execution_count": 7,
   "id": "03e9c05e-c867-4777-ba82-c0b815f0e1a8",
   "metadata": {},
   "outputs": [
    {
     "data": {
      "image/png": "[encoded data removed]",
      "text/plain": [
       "<Figure size 432x288 with 1 Axes>"
      ]
     },
     "metadata": {
      "needs_background": "light"
     },
     "output_type": "display_data"
    }
   ],
   "source": [
    "sns.countplot(data = df, x = 'overall');"
   ]
  },
  {
   "cell_type": "code",
   "execution_count": 8,
   "id": "488e8efc-d634-4b92-9b14-e4a6d3a5329a",
   "metadata": {},
   "outputs": [
    {
     "data": {
      "text/plain": [
       "71982"
      ]
     },
     "execution_count": 8,
     "metadata": {},
     "output_type": "execute_result"
    }
   ],
   "source": [
    "len(df['asin'].value_counts(dropna=False))"
   ]
  },
  {
   "cell_type": "markdown",
   "id": "15064388-a352-4d3c-8a85-37eefc151eda",
   "metadata": {},
   "source": [
    "Random Sample of reviews"
   ]
  },
  {
   "cell_type": "code",
   "execution_count": 9,
   "id": "8c4c018b-942e-4ce5-9fcb-a12655b84799",
   "metadata": {},
   "outputs": [],
   "source": [
    "one_sample = df[df['overall'] == 1.0].sample(n=2000)\n",
    "two_sample = df[df['overall'] == 2.0].sample(n=2000)\n",
    "three_sample = df[df['overall'] == 3.0].sample(n=2000)\n",
    "four_sample = df[df['overall'] == 4.0].sample(n=2000)\n",
    "five_sample = df[df['overall'] == 5.0].sample(n=2000)"
   ]
  },
  {
   "cell_type": "code",
   "execution_count": 10,
   "id": "6ea1063a-cf70-4c43-b948-d1827b27f7e8",
   "metadata": {},
   "outputs": [
    {
     "data": {
      "text/html": [
       "<div>\n",
       "<style scoped>\n",
       "    .dataframe tbody tr th:only-of-type {\n",
       "        vertical-align: middle;\n",
       "    }\n",
       "\n",
       "    .dataframe tbody tr th {\n",
       "        vertical-align: top;\n",
       "    }\n",
       "\n",
       "    .dataframe thead th {\n",
       "        text-align: right;\n",
       "    }\n",
       "</style>\n",
       "<table border=\"1\" class=\"dataframe\">\n",
       "  <thead>\n",
       "    <tr style=\"text-align: right;\">\n",
       "      <th></th>\n",
       "      <th>overall</th>\n",
       "      <th>verified</th>\n",
       "      <th>reviewTime</th>\n",
       "      <th>reviewerID</th>\n",
       "      <th>asin</th>\n",
       "      <th>reviewerName</th>\n",
       "      <th>reviewText</th>\n",
       "      <th>summary</th>\n",
       "      <th>unixReviewTime</th>\n",
       "      <th>vote</th>\n",
       "      <th>style</th>\n",
       "      <th>image</th>\n",
       "    </tr>\n",
       "  </thead>\n",
       "  <tbody>\n",
       "    <tr>\n",
       "      <th>2041147</th>\n",
       "      <td>1.0</td>\n",
       "      <td>True</td>\n",
       "      <td>06 13, 2017</td>\n",
       "      <td>AZ5Q3IA6E0SN0</td>\n",
       "      <td>B019W2MK54</td>\n",
       "      <td>Amazon Customer</td>\n",
       "      <td>The scrolling already makes squeaking noise an...</td>\n",
       "      <td>One Star</td>\n",
       "      <td>1497312000</td>\n",
       "      <td>NaN</td>\n",
       "      <td>NaN</td>\n",
       "      <td>NaN</td>\n",
       "    </tr>\n",
       "    <tr>\n",
       "      <th>2399832</th>\n",
       "      <td>1.0</td>\n",
       "      <td>False</td>\n",
       "      <td>07 8, 2012</td>\n",
       "      <td>A2RGY3RWZGPG53</td>\n",
       "      <td>B00742CIN4</td>\n",
       "      <td>Cammyp1</td>\n",
       "      <td>I was so happy to get this in the mail and gue...</td>\n",
       "      <td>This is a piece of crap!!!!!</td>\n",
       "      <td>1341705600</td>\n",
       "      <td>NaN</td>\n",
       "      <td>NaN</td>\n",
       "      <td>NaN</td>\n",
       "    </tr>\n",
       "    <tr>\n",
       "      <th>1044186</th>\n",
       "      <td>1.0</td>\n",
       "      <td>True</td>\n",
       "      <td>04 30, 2011</td>\n",
       "      <td>AWS9RKBONFM1T</td>\n",
       "      <td>B006IUVDOS</td>\n",
       "      <td>Amazon Customer</td>\n",
       "      <td>I'd been looking at this game for a while and ...</td>\n",
       "      <td>Warning! Faulty Game!</td>\n",
       "      <td>1304121600</td>\n",
       "      <td>2</td>\n",
       "      <td>{'Edition:': ' Standard', 'Platform:': ' PC'}</td>\n",
       "      <td>NaN</td>\n",
       "    </tr>\n",
       "    <tr>\n",
       "      <th>1084110</th>\n",
       "      <td>1.0</td>\n",
       "      <td>True</td>\n",
       "      <td>11 13, 2013</td>\n",
       "      <td>A2O4BW77ZEA4V6</td>\n",
       "      <td>B007FTE2VW</td>\n",
       "      <td>John R Stone</td>\n",
       "      <td>According to mfg system requirements my system...</td>\n",
       "      <td>System requirements not correct</td>\n",
       "      <td>1384300800</td>\n",
       "      <td>6</td>\n",
       "      <td>{'Format:': ' Software Download'}</td>\n",
       "      <td>NaN</td>\n",
       "    </tr>\n",
       "    <tr>\n",
       "      <th>1399749</th>\n",
       "      <td>1.0</td>\n",
       "      <td>False</td>\n",
       "      <td>04 27, 2015</td>\n",
       "      <td>APUIZIRQZAV3N</td>\n",
       "      <td>B00F0DCH9Y</td>\n",
       "      <td>Andrew L</td>\n",
       "      <td>I'm a fast typist and this keyboard just can't...</td>\n",
       "      <td>Can't keep up with my typing after only 4 mont...</td>\n",
       "      <td>1430092800</td>\n",
       "      <td>NaN</td>\n",
       "      <td>NaN</td>\n",
       "      <td>NaN</td>\n",
       "    </tr>\n",
       "  </tbody>\n",
       "</table>\n",
       "</div>"
      ],
      "text/plain": [
       "         overall  verified   reviewTime      reviewerID        asin  \\\n",
       "2041147      1.0      True  06 13, 2017   AZ5Q3IA6E0SN0  B019W2MK54   \n",
       "2399832      1.0     False   07 8, 2012  A2RGY3RWZGPG53  B00742CIN4   \n",
       "1044186      1.0      True  04 30, 2011   AWS9RKBONFM1T  B006IUVDOS   \n",
       "1084110      1.0      True  11 13, 2013  A2O4BW77ZEA4V6  B007FTE2VW   \n",
       "1399749      1.0     False  04 27, 2015   APUIZIRQZAV3N  B00F0DCH9Y   \n",
       "\n",
       "            reviewerName                                         reviewText  \\\n",
       "2041147  Amazon Customer  The scrolling already makes squeaking noise an...   \n",
       "2399832          Cammyp1  I was so happy to get this in the mail and gue...   \n",
       "1044186  Amazon Customer  I'd been looking at this game for a while and ...   \n",
       "1084110     John R Stone  According to mfg system requirements my system...   \n",
       "1399749         Andrew L  I'm a fast typist and this keyboard just can't...   \n",
       "\n",
       "                                                   summary  unixReviewTime  \\\n",
       "2041147                                           One Star      1497312000   \n",
       "2399832                       This is a piece of crap!!!!!      1341705600   \n",
       "1044186                              Warning! Faulty Game!      1304121600   \n",
       "1084110                    System requirements not correct      1384300800   \n",
       "1399749  Can't keep up with my typing after only 4 mont...      1430092800   \n",
       "\n",
       "        vote                                          style image  \n",
       "2041147  NaN                                            NaN   NaN  \n",
       "2399832  NaN                                            NaN   NaN  \n",
       "1044186    2  {'Edition:': ' Standard', 'Platform:': ' PC'}   NaN  \n",
       "1084110    6              {'Format:': ' Software Download'}   NaN  \n",
       "1399749  NaN                                            NaN   NaN  "
      ]
     },
     "execution_count": 10,
     "metadata": {},
     "output_type": "execute_result"
    }
   ],
   "source": [
    "one_sample.head()"
   ]
  },
  {
   "cell_type": "code",
   "execution_count": 11,
   "id": "3a5327bb-3157-4eb0-b716-6448c589bda8",
   "metadata": {},
   "outputs": [
    {
     "data": {
      "text/plain": [
       "(2000, 12)"
      ]
     },
     "execution_count": 11,
     "metadata": {},
     "output_type": "execute_result"
    }
   ],
   "source": [
    "one_sample.shape"
   ]
  },
  {
   "cell_type": "code",
   "execution_count": 12,
   "id": "3c9dda3c-46fe-4767-bc42-5bc5e1177736",
   "metadata": {},
   "outputs": [],
   "source": [
    "sample_df = pd.concat([one_sample, two_sample, three_sample, four_sample, five_sample], axis=0)"
   ]
  },
  {
   "cell_type": "code",
   "execution_count": 13,
   "id": "100a5968-61d5-4b0e-8ede-dfee7b3dd404",
   "metadata": {},
   "outputs": [
    {
     "data": {
      "text/plain": [
       "1.0    2000\n",
       "2.0    2000\n",
       "3.0    2000\n",
       "4.0    2000\n",
       "5.0    2000\n",
       "Name: overall, dtype: int64"
      ]
     },
     "execution_count": 13,
     "metadata": {},
     "output_type": "execute_result"
    }
   ],
   "source": [
    "sample_df['overall'].value_counts(dropna=False)"
   ]
  },
  {
   "cell_type": "code",
   "execution_count": 14,
   "id": "ed2d7418-8744-4e66-8030-274dc5a73807",
   "metadata": {},
   "outputs": [
    {
     "data": {
      "image/png": "[encoded data removed]",
      "text/plain": [
       "<Figure size 432x288 with 1 Axes>"
      ]
     },
     "metadata": {
      "needs_background": "light"
     },
     "output_type": "display_data"
    }
   ],
   "source": [
    "sns.countplot(data=sample_df, x='overall');"
   ]
  },
  {
   "cell_type": "code",
   "execution_count": 15,
   "id": "87d8f306-aa3b-46e1-9ed6-957312517465",
   "metadata": {},
   "outputs": [],
   "source": [
    "sample_reviews = df.sample(n=200000, random_state=20)"
   ]
  },
  {
   "cell_type": "code",
   "execution_count": 33,
   "id": "53b9525e-b368-4f73-b817-d2c2eb2bd897",
   "metadata": {},
   "outputs": [],
   "source": [
    "sample_df.to_csv('small_corpus.csv', index=False)"
   ]
  },
  {
   "cell_type": "code",
   "execution_count": 16,
   "id": "eafdc19c-2f11-43d4-943c-ee7d796cf82d",
   "metadata": {},
   "outputs": [],
   "source": [
    "sample_reviews.to_csv('big_corpus.csv', index=False)"
   ]
  },
  {
   "cell_type": "code",
   "execution_count": null,
   "id": "942c38a4-f251-4410-a5de-8420b86e0ec5",
   "metadata": {},
   "outputs": [],
   "source": []
  }
 ],
 "metadata": {
  "kernelspec": {
   "display_name": "Python [conda env:metis] *",
   "language": "python",
   "name": "conda-env-metis-py"
  },
  "language_info": {
   "codemirror_mode": {
    "name": "ipython",
    "version": 3
   },
   "file_extension": ".py",
   "mimetype": "text/x-python",
   "name": "python",
   "nbconvert_exporter": "python",
   "pygments_lexer": "ipython3",
   "version": "3.8.10"
  }
 },
 "nbformat": 4,
 "nbformat_minor": 5
}
