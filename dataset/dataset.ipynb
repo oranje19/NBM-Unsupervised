{
 "cells": [
  {
   "cell_type": "code",
   "execution_count": 3,
   "id": "71fcbf17-89af-44ea-bc38-0c5a43428a97",
   "metadata": {},
   "outputs": [
    {
     "name": "stdout",
     "output_type": "stream",
     "text": [
      "Collecting ndjson\n",
      "  Downloading ndjson-0.3.1-py2.py3-none-any.whl (5.3 kB)\n",
      "Installing collected packages: ndjson\n",
      "Successfully installed ndjson-0.3.1\n",
      "Note: you may need to restart the kernel to use updated packages.\n"
     ]
    }
   ],
   "source": [
    "# pip install ndjson"
   ]
  },
  {
   "cell_type": "code",
   "execution_count": 4,
   "id": "78e3f42f-7fb4-4236-a5c0-0fa572102eef",
   "metadata": {},
   "outputs": [],
   "source": [
    "import ndjson\n",
    "import pandas as pd\n",
    "import numpy as np\n",
    "import seaborn as sns"
   ]
  },
  {
   "cell_type": "code",
   "execution_count": 10,
   "id": "f754fd13-3ef6-4811-8a57-b458dab5f278",
   "metadata": {},
   "outputs": [],
   "source": [
    "with open('../../Datasets/amazon-video-games/Video_Games.json') as f:\n",
    "    data = ndjson.load(f)"
   ]
  },
  {
   "cell_type": "code",
   "execution_count": 11,
   "id": "2df82b71-c08f-4f7c-bca0-2672e4daf497",
   "metadata": {},
   "outputs": [],
   "source": [
    "df = pd.DataFrame(data)"
   ]
  },
  {
   "cell_type": "code",
   "execution_count": 12,
   "id": "a054e1f3-e498-4efb-9834-f6afbe0d7889",
   "metadata": {},
   "outputs": [
    {
     "data": {
      "text/html": [
       "<div>\n",
       "<style scoped>\n",
       "    .dataframe tbody tr th:only-of-type {\n",
       "        vertical-align: middle;\n",
       "    }\n",
       "\n",
       "    .dataframe tbody tr th {\n",
       "        vertical-align: top;\n",
       "    }\n",
       "\n",
       "    .dataframe thead th {\n",
       "        text-align: right;\n",
       "    }\n",
       "</style>\n",
       "<table border=\"1\" class=\"dataframe\">\n",
       "  <thead>\n",
       "    <tr style=\"text-align: right;\">\n",
       "      <th></th>\n",
       "      <th>overall</th>\n",
       "      <th>verified</th>\n",
       "      <th>reviewTime</th>\n",
       "      <th>reviewerID</th>\n",
       "      <th>asin</th>\n",
       "      <th>reviewerName</th>\n",
       "      <th>reviewText</th>\n",
       "      <th>summary</th>\n",
       "      <th>unixReviewTime</th>\n",
       "      <th>vote</th>\n",
       "      <th>style</th>\n",
       "      <th>image</th>\n",
       "    </tr>\n",
       "  </thead>\n",
       "  <tbody>\n",
       "    <tr>\n",
       "      <th>0</th>\n",
       "      <td>1.0</td>\n",
       "      <td>True</td>\n",
       "      <td>06 9, 2014</td>\n",
       "      <td>A21ROB4YDOZA5P</td>\n",
       "      <td>0439381673</td>\n",
       "      <td>Mary M. Clark</td>\n",
       "      <td>I used to play this game years ago and loved i...</td>\n",
       "      <td>Did not like this</td>\n",
       "      <td>1402272000</td>\n",
       "      <td>NaN</td>\n",
       "      <td>NaN</td>\n",
       "      <td>NaN</td>\n",
       "    </tr>\n",
       "    <tr>\n",
       "      <th>1</th>\n",
       "      <td>3.0</td>\n",
       "      <td>True</td>\n",
       "      <td>05 10, 2014</td>\n",
       "      <td>A3TNZ2Q5E7HTHD</td>\n",
       "      <td>0439381673</td>\n",
       "      <td>Sarabatya</td>\n",
       "      <td>The game itself worked great but the story lin...</td>\n",
       "      <td>Almost Perfect</td>\n",
       "      <td>1399680000</td>\n",
       "      <td>NaN</td>\n",
       "      <td>NaN</td>\n",
       "      <td>NaN</td>\n",
       "    </tr>\n",
       "    <tr>\n",
       "      <th>2</th>\n",
       "      <td>4.0</td>\n",
       "      <td>True</td>\n",
       "      <td>02 7, 2014</td>\n",
       "      <td>A1OKRM3QFEATQO</td>\n",
       "      <td>0439381673</td>\n",
       "      <td>Amazon Customer</td>\n",
       "      <td>I had to learn the hard way after ordering thi...</td>\n",
       "      <td>DOES NOT WORK WITH MAC OS unless it is 10.3 or...</td>\n",
       "      <td>1391731200</td>\n",
       "      <td>15</td>\n",
       "      <td>NaN</td>\n",
       "      <td>NaN</td>\n",
       "    </tr>\n",
       "    <tr>\n",
       "      <th>3</th>\n",
       "      <td>1.0</td>\n",
       "      <td>True</td>\n",
       "      <td>02 7, 2014</td>\n",
       "      <td>A2XO1JFCNEYV3T</td>\n",
       "      <td>0439381673</td>\n",
       "      <td>ColoradoPartyof5</td>\n",
       "      <td>The product description should state this clea...</td>\n",
       "      <td>does not work on Mac OSX</td>\n",
       "      <td>1391731200</td>\n",
       "      <td>11</td>\n",
       "      <td>NaN</td>\n",
       "      <td>NaN</td>\n",
       "    </tr>\n",
       "    <tr>\n",
       "      <th>4</th>\n",
       "      <td>4.0</td>\n",
       "      <td>True</td>\n",
       "      <td>01 16, 2014</td>\n",
       "      <td>A19WLPIRHD15TH</td>\n",
       "      <td>0439381673</td>\n",
       "      <td>Karen Robinson</td>\n",
       "      <td>I would recommend this learning game for anyon...</td>\n",
       "      <td>Roughing it</td>\n",
       "      <td>1389830400</td>\n",
       "      <td>NaN</td>\n",
       "      <td>NaN</td>\n",
       "      <td>NaN</td>\n",
       "    </tr>\n",
       "  </tbody>\n",
       "</table>\n",
       "</div>"
      ],
      "text/plain": [
       "   overall  verified   reviewTime      reviewerID        asin  \\\n",
       "0      1.0      True   06 9, 2014  A21ROB4YDOZA5P  0439381673   \n",
       "1      3.0      True  05 10, 2014  A3TNZ2Q5E7HTHD  0439381673   \n",
       "2      4.0      True   02 7, 2014  A1OKRM3QFEATQO  0439381673   \n",
       "3      1.0      True   02 7, 2014  A2XO1JFCNEYV3T  0439381673   \n",
       "4      4.0      True  01 16, 2014  A19WLPIRHD15TH  0439381673   \n",
       "\n",
       "       reviewerName                                         reviewText  \\\n",
       "0     Mary M. Clark  I used to play this game years ago and loved i...   \n",
       "1         Sarabatya  The game itself worked great but the story lin...   \n",
       "2   Amazon Customer  I had to learn the hard way after ordering thi...   \n",
       "3  ColoradoPartyof5  The product description should state this clea...   \n",
       "4    Karen Robinson  I would recommend this learning game for anyon...   \n",
       "\n",
       "                                             summary  unixReviewTime vote  \\\n",
       "0                                  Did not like this      1402272000  NaN   \n",
       "1                                     Almost Perfect      1399680000  NaN   \n",
       "2  DOES NOT WORK WITH MAC OS unless it is 10.3 or...      1391731200   15   \n",
       "3                           does not work on Mac OSX      1391731200   11   \n",
       "4                                        Roughing it      1389830400  NaN   \n",
       "\n",
       "  style image  \n",
       "0   NaN   NaN  \n",
       "1   NaN   NaN  \n",
       "2   NaN   NaN  \n",
       "3   NaN   NaN  \n",
       "4   NaN   NaN  "
      ]
     },
     "execution_count": 12,
     "metadata": {},
     "output_type": "execute_result"
    }
   ],
   "source": [
    "df.head()"
   ]
  },
  {
   "cell_type": "code",
   "execution_count": 13,
   "id": "8fabf702-4227-4f71-bd98-0c04b8394998",
   "metadata": {},
   "outputs": [
    {
     "data": {
      "text/plain": [
       "(2565349, 12)"
      ]
     },
     "execution_count": 13,
     "metadata": {},
     "output_type": "execute_result"
    }
   ],
   "source": [
    "df.shape"
   ]
  },
  {
   "cell_type": "code",
   "execution_count": 14,
   "id": "3fe57f9f-77cf-4dd0-bdc5-0a242ae6c6f0",
   "metadata": {},
   "outputs": [
    {
     "name": "stdout",
     "output_type": "stream",
     "text": [
      "<class 'pandas.core.frame.DataFrame'>\n",
      "RangeIndex: 2565349 entries, 0 to 2565348\n",
      "Data columns (total 12 columns):\n",
      " #   Column          Dtype  \n",
      "---  ------          -----  \n",
      " 0   overall         float64\n",
      " 1   verified        bool   \n",
      " 2   reviewTime      object \n",
      " 3   reviewerID      object \n",
      " 4   asin            object \n",
      " 5   reviewerName    object \n",
      " 6   reviewText      object \n",
      " 7   summary         object \n",
      " 8   unixReviewTime  int64  \n",
      " 9   vote            object \n",
      " 10  style           object \n",
      " 11  image           object \n",
      "dtypes: bool(1), float64(1), int64(1), object(9)\n",
      "memory usage: 217.7+ MB\n"
     ]
    }
   ],
   "source": [
    "df.info()"
   ]
  },
  {
   "cell_type": "code",
   "execution_count": 16,
   "id": "03e9c05e-c867-4777-ba82-c0b815f0e1a8",
   "metadata": {},
   "outputs": [
    {
     "data": {
      "image/png": "[encoded data removed]",
      "text/plain": [
       "<Figure size 432x288 with 1 Axes>"
      ]
     },
     "metadata": {
      "needs_background": "light"
     },
     "output_type": "display_data"
    }
   ],
   "source": [
    "sns.countplot(data = df, x = 'overall');"
   ]
  },
  {
   "cell_type": "code",
   "execution_count": 17,
   "id": "488e8efc-d634-4b92-9b14-e4a6d3a5329a",
   "metadata": {},
   "outputs": [
    {
     "data": {
      "text/plain": [
       "71982"
      ]
     },
     "execution_count": 17,
     "metadata": {},
     "output_type": "execute_result"
    }
   ],
   "source": [
    "len(df['asin'].value_counts(dropna=False))"
   ]
  },
  {
   "cell_type": "markdown",
   "id": "15064388-a352-4d3c-8a85-37eefc151eda",
   "metadata": {},
   "source": [
    "Random Sample of reviews"
   ]
  },
  {
   "cell_type": "code",
   "execution_count": 26,
   "id": "8c4c018b-942e-4ce5-9fcb-a12655b84799",
   "metadata": {},
   "outputs": [],
   "source": [
    "one_sample = df[df['overall'] == 1.0].sample(n=20000)\n",
    "two_sample = df[df['overall'] == 2.0].sample(n=10000)\n",
    "three_sample = df[df['overall'] == 3.0].sample(n=10000)\n",
    "four_sample = df[df['overall'] == 4.0].sample(n=10000)\n",
    "five_sample = df[df['overall'] == 5.0].sample(n=20000)"
   ]
  },
  {
   "cell_type": "code",
   "execution_count": 27,
   "id": "6ea1063a-cf70-4c43-b948-d1827b27f7e8",
   "metadata": {},
   "outputs": [
    {
     "data": {
      "text/html": [
       "<div>\n",
       "<style scoped>\n",
       "    .dataframe tbody tr th:only-of-type {\n",
       "        vertical-align: middle;\n",
       "    }\n",
       "\n",
       "    .dataframe tbody tr th {\n",
       "        vertical-align: top;\n",
       "    }\n",
       "\n",
       "    .dataframe thead th {\n",
       "        text-align: right;\n",
       "    }\n",
       "</style>\n",
       "<table border=\"1\" class=\"dataframe\">\n",
       "  <thead>\n",
       "    <tr style=\"text-align: right;\">\n",
       "      <th></th>\n",
       "      <th>overall</th>\n",
       "      <th>verified</th>\n",
       "      <th>reviewTime</th>\n",
       "      <th>reviewerID</th>\n",
       "      <th>asin</th>\n",
       "      <th>reviewerName</th>\n",
       "      <th>reviewText</th>\n",
       "      <th>summary</th>\n",
       "      <th>unixReviewTime</th>\n",
       "      <th>vote</th>\n",
       "      <th>style</th>\n",
       "      <th>image</th>\n",
       "    </tr>\n",
       "  </thead>\n",
       "  <tbody>\n",
       "    <tr>\n",
       "      <th>2507245</th>\n",
       "      <td>1.0</td>\n",
       "      <td>True</td>\n",
       "      <td>12 25, 2015</td>\n",
       "      <td>ABKWZO2J7RB5C</td>\n",
       "      <td>B00X6ZUZME</td>\n",
       "      <td>Jon.M.Barter</td>\n",
       "      <td>Weak sauce accessory.  Had to hold down button...</td>\n",
       "      <td>There sare definitely better options out there</td>\n",
       "      <td>1451001600</td>\n",
       "      <td>NaN</td>\n",
       "      <td>NaN</td>\n",
       "      <td>NaN</td>\n",
       "    </tr>\n",
       "    <tr>\n",
       "      <th>1981589</th>\n",
       "      <td>1.0</td>\n",
       "      <td>True</td>\n",
       "      <td>08 8, 2016</td>\n",
       "      <td>A1BQU8JLXS6OOX</td>\n",
       "      <td>B015YE7SM4</td>\n",
       "      <td>Richy Fukushima</td>\n",
       "      <td>I got this mouse on sale.  It looks nice, has ...</td>\n",
       "      <td>nice product, but it freezes randomly</td>\n",
       "      <td>1470614400</td>\n",
       "      <td>NaN</td>\n",
       "      <td>NaN</td>\n",
       "      <td>NaN</td>\n",
       "    </tr>\n",
       "    <tr>\n",
       "      <th>2318395</th>\n",
       "      <td>1.0</td>\n",
       "      <td>False</td>\n",
       "      <td>02 17, 2011</td>\n",
       "      <td>A2Z6E2JHMTJJR4</td>\n",
       "      <td>B001CD8L1Y</td>\n",
       "      <td>Heez</td>\n",
       "      <td>I bought this product from a different website...</td>\n",
       "      <td>Piece of junk.</td>\n",
       "      <td>1297900800</td>\n",
       "      <td>NaN</td>\n",
       "      <td>NaN</td>\n",
       "      <td>NaN</td>\n",
       "    </tr>\n",
       "    <tr>\n",
       "      <th>1248508</th>\n",
       "      <td>1.0</td>\n",
       "      <td>True</td>\n",
       "      <td>01 4, 2018</td>\n",
       "      <td>A2Y3RL6NN4CI9D</td>\n",
       "      <td>B00CAUTK0E</td>\n",
       "      <td>Mason Rickert</td>\n",
       "      <td>Way overpriced. Hurt with a headset on. And wa...</td>\n",
       "      <td>Overpriced, save your money and find a better,...</td>\n",
       "      <td>1515024000</td>\n",
       "      <td>2</td>\n",
       "      <td>{'Color:': ' Onyx', 'Style:': ' Standard Packa...</td>\n",
       "      <td>NaN</td>\n",
       "    </tr>\n",
       "    <tr>\n",
       "      <th>717421</th>\n",
       "      <td>1.0</td>\n",
       "      <td>False</td>\n",
       "      <td>09 17, 2010</td>\n",
       "      <td>A25HX4LNZLJNWD</td>\n",
       "      <td>B002BS47TE</td>\n",
       "      <td>mazinger4</td>\n",
       "      <td>I purchased this game over a month ago, and ev...</td>\n",
       "      <td>Boss difficulty is unbeatable</td>\n",
       "      <td>1284681600</td>\n",
       "      <td>4</td>\n",
       "      <td>{'Format:': ' Video Game'}</td>\n",
       "      <td>NaN</td>\n",
       "    </tr>\n",
       "  </tbody>\n",
       "</table>\n",
       "</div>"
      ],
      "text/plain": [
       "         overall  verified   reviewTime      reviewerID        asin  \\\n",
       "2507245      1.0      True  12 25, 2015   ABKWZO2J7RB5C  B00X6ZUZME   \n",
       "1981589      1.0      True   08 8, 2016  A1BQU8JLXS6OOX  B015YE7SM4   \n",
       "2318395      1.0     False  02 17, 2011  A2Z6E2JHMTJJR4  B001CD8L1Y   \n",
       "1248508      1.0      True   01 4, 2018  A2Y3RL6NN4CI9D  B00CAUTK0E   \n",
       "717421       1.0     False  09 17, 2010  A25HX4LNZLJNWD  B002BS47TE   \n",
       "\n",
       "            reviewerName                                         reviewText  \\\n",
       "2507245     Jon.M.Barter  Weak sauce accessory.  Had to hold down button...   \n",
       "1981589  Richy Fukushima  I got this mouse on sale.  It looks nice, has ...   \n",
       "2318395             Heez  I bought this product from a different website...   \n",
       "1248508    Mason Rickert  Way overpriced. Hurt with a headset on. And wa...   \n",
       "717421         mazinger4  I purchased this game over a month ago, and ev...   \n",
       "\n",
       "                                                   summary  unixReviewTime  \\\n",
       "2507245     There sare definitely better options out there      1451001600   \n",
       "1981589              nice product, but it freezes randomly      1470614400   \n",
       "2318395                                     Piece of junk.      1297900800   \n",
       "1248508  Overpriced, save your money and find a better,...      1515024000   \n",
       "717421                       Boss difficulty is unbeatable      1284681600   \n",
       "\n",
       "        vote                                              style image  \n",
       "2507245  NaN                                                NaN   NaN  \n",
       "1981589  NaN                                                NaN   NaN  \n",
       "2318395  NaN                                                NaN   NaN  \n",
       "1248508    2  {'Color:': ' Onyx', 'Style:': ' Standard Packa...   NaN  \n",
       "717421     4                         {'Format:': ' Video Game'}   NaN  "
      ]
     },
     "execution_count": 27,
     "metadata": {},
     "output_type": "execute_result"
    }
   ],
   "source": [
    "one_sample.head()"
   ]
  },
  {
   "cell_type": "code",
   "execution_count": 28,
   "id": "3a5327bb-3157-4eb0-b716-6448c589bda8",
   "metadata": {},
   "outputs": [
    {
     "data": {
      "text/plain": [
       "(20000, 12)"
      ]
     },
     "execution_count": 28,
     "metadata": {},
     "output_type": "execute_result"
    }
   ],
   "source": [
    "one_sample.shape"
   ]
  },
  {
   "cell_type": "code",
   "execution_count": 29,
   "id": "3c9dda3c-46fe-4767-bc42-5bc5e1177736",
   "metadata": {},
   "outputs": [],
   "source": [
    "sample_df = pd.concat([one_sample, two_sample, three_sample, four_sample, five_sample], axis=0)"
   ]
  },
  {
   "cell_type": "code",
   "execution_count": 30,
   "id": "100a5968-61d5-4b0e-8ede-dfee7b3dd404",
   "metadata": {},
   "outputs": [
    {
     "data": {
      "text/plain": [
       "1.0    20000\n",
       "5.0    20000\n",
       "2.0    10000\n",
       "3.0    10000\n",
       "4.0    10000\n",
       "Name: overall, dtype: int64"
      ]
     },
     "execution_count": 30,
     "metadata": {},
     "output_type": "execute_result"
    }
   ],
   "source": [
    "sample_df['overall'].value_counts(dropna=False)"
   ]
  },
  {
   "cell_type": "code",
   "execution_count": 31,
   "id": "ed2d7418-8744-4e66-8030-274dc5a73807",
   "metadata": {},
   "outputs": [
    {
     "data": {
      "image/png": "[encoded data removed]",
      "text/plain": [
       "<Figure size 432x288 with 1 Axes>"
      ]
     },
     "metadata": {
      "needs_background": "light"
     },
     "output_type": "display_data"
    }
   ],
   "source": [
    "sns.countplot(data=sample_df, x='overall');"
   ]
  },
  {
   "cell_type": "code",
   "execution_count": 32,
   "id": "87d8f306-aa3b-46e1-9ed6-957312517465",
   "metadata": {},
   "outputs": [],
   "source": [
    "sample_reviews = df.sample(n=200000, random_state=20)"
   ]
  },
  {
   "cell_type": "code",
   "execution_count": 33,
   "id": "53b9525e-b368-4f73-b817-d2c2eb2bd897",
   "metadata": {},
   "outputs": [],
   "source": [
    "sample_df.to_csv('small_corpus.csv', index=False)"
   ]
  },
  {
   "cell_type": "code",
   "execution_count": 34,
   "id": "eafdc19c-2f11-43d4-943c-ee7d796cf82d",
   "metadata": {},
   "outputs": [],
   "source": [
    "sample_reviews.to_csv('big_corpus.csv', index=False)"
   ]
  },
  {
   "cell_type": "code",
   "execution_count": null,
   "id": "942c38a4-f251-4410-a5de-8420b86e0ec5",
   "metadata": {},
   "outputs": [],
   "source": []
  }
 ],
 "metadata": {
  "kernelspec": {
   "display_name": "Python [conda env:metis] *",
   "language": "python",
   "name": "conda-env-metis-py"
  },
  "language_info": {
   "codemirror_mode": {
    "name": "ipython",
    "version": 3
   },
   "file_extension": ".py",
   "mimetype": "text/x-python",
   "name": "python",
   "nbconvert_exporter": "python",
   "pygments_lexer": "ipython3",
   "version": "3.8.10"
  }
 },
 "nbformat": 4,
 "nbformat_minor": 5
}
